{
 "cells": [
  {
   "cell_type": "code",
   "execution_count": null,
   "metadata": {},
   "outputs": [],
   "source": [
    "# Show unique values for non-numeric columns (e.g., genres, title type)\n",
    "for col in df.select_dtypes(include='object').columns:\n",
    "    print(f'Column: {col}')\n",
    "    print(df[col].unique()[:10])  # Show up to 10 unique values\n",
    "    print()"
   ]
  },
  {
   "cell_type": "code",
   "execution_count": null,
   "metadata": {},
   "outputs": [],
   "source": [
    "# Show summary statistics for numeric columns\n",
    "df.describe()"
   ]
  },
  {
   "cell_type": "code",
   "execution_count": null,
   "metadata": {},
   "outputs": [],
   "source": [
    "# Show columns and data types\n",
    "df.info()"
   ]
  },
  {
   "cell_type": "code",
   "execution_count": null,
   "metadata": {},
   "outputs": [],
   "source": [
    "import pandas as pd\n",
    "\n",
    "# Load the CSV file\n",
    "df = pd.read_csv('imdb rating.csv')\n",
    "df.head()"
   ]
  },
  {
   "cell_type": "markdown",
   "metadata": {},
   "source": [
    "# IMDb Ratings CSV Data Exploration\n",
    "\n",
    "This notebook explores the structure and contents of the `imdb rating.csv` file. It will help you understand the columns, data types, and sample data, so you can use this CSV as the main data source for your analysis and backend logic."
   ]
  },
  {
   "cell_type": "markdown",
   "metadata": {},
   "source": [
    "# IMDB Ratings Data Exploration\n",
    "\n",
    "This notebook explores the IMDB ratings CSV data to understand its structure and identify analysis opportunities."
   ]
  },
  {
   "cell_type": "code",
   "execution_count": null,
   "metadata": {},
   "outputs": [],
   "source": [
    "import pandas as pd\n",
    "import numpy as np\n",
    "import matplotlib.pyplot as plt\n",
    "import seaborn as sns\n",
    "from datetime import datetime\n",
    "import warnings\n",
    "warnings.filterwarnings('ignore')\n",
    "\n",
    "# Set up plotting style\n",
    "plt.style.use('default')\n",
    "sns.set_palette('husl')"
   ]
  },
  {
   "cell_type": "markdown",
   "metadata": {},
   "source": [
    "## Load and Examine Data"
   ]
  },
  {
   "cell_type": "code",
   "execution_count": null,
   "metadata": {},
   "outputs": [],
   "source": [
    "# Load the CSV data\n",
    "df = pd.read_csv('imdb rating.csv')\n",
    "\n",
    "# Display basic information\n",
    "print(f\"Dataset shape: {df.shape}\")\n",
    "print(f\"\\nColumn names and types:\")\n",
    "print(df.dtypes)\n",
    "print(f\"\\nFirst few rows:\")\n",
    "df.head()"
   ]
  },
  {
   "cell_type": "code",
   "execution_count": null,
   "metadata": {},
   "outputs": [],
   "source": [
    "# Check for missing values\n",
    "print(\"Missing values per column:\")\n",
    "print(df.isnull().sum())\n",
    "\n",
    "print(\"\\nData types:\")\n",
    "print(df.info())"
   ]
  },
  {
   "cell_type": "markdown",
   "metadata": {},
   "source": [
    "## Data Cleaning and Preprocessing"
   ]
  },
  {
   "cell_type": "code",
   "execution_count": null,
   "metadata": {},
   "outputs": [],
   "source": [
    "# Convert date columns\n",
    "df['Date Rated'] = pd.to_datetime(df['Date Rated'])\n",
    "df['Release Date'] = pd.to_datetime(df['Release Date'], errors='coerce')\n",
    "\n",
    "# Clean runtime column\n",
    "df['Runtime (mins)'] = pd.to_numeric(df['Runtime (mins)'], errors='coerce')\n",
    "\n",
    "# Split genres into separate columns for analysis\n",
    "df['Genres_List'] = df['Genres'].str.split(', ')\n",
    "\n",
    "# Clean numeric columns\n",
    "df['Your Rating'] = pd.to_numeric(df['Your Rating'], errors='coerce')\n",
    "df['IMDb Rating'] = pd.to_numeric(df['IMDb Rating'], errors='coerce')\n",
    "df['Num Votes'] = pd.to_numeric(df['Num Votes'], errors='coerce')\n",
    "df['Year'] = pd.to_numeric(df['Year'], errors='coerce')\n",
    "\n",
    "print(f\"After cleaning, shape: {df.shape}\")\n",
    "df.head()"
   ]
  },
  {
   "cell_type": "markdown",
   "metadata": {},
   "source": [
    "## Basic Statistics and Analysis"
   ]
  },
  {
   "cell_type": "code",
   "execution_count": null,
   "metadata": {},
   "outputs": [],
   "source": [
    "# Rating statistics\n",
    "print(\"Your Rating Statistics:\")\n",
    "print(df['Your Rating'].describe())\n",
    "\n",
    "print(\"\\nIMDb Rating Statistics:\")\n",
    "print(df['IMDb Rating'].describe())\n",
    "\n",
    "print(\"\\nYear range:\")\n",
    "print(f\"From {df['Year'].min()} to {df['Year'].max()}\")\n",
    "\n",
    "print(\"\\nRuntime statistics:\")\n",
    "print(df['Runtime (mins)'].describe())"
   ]
  },
  {
   "cell_type": "code",
   "execution_count": null,
   "metadata": {},
   "outputs": [],
   "source": [
    "# Rating distribution\n",
    "fig, axes = plt.subplots(2, 2, figsize=(15, 10))\n",
    "\n",
    "# Your ratings distribution\n",
    "axes[0,0].hist(df['Your Rating'].dropna(), bins=range(1, 12), alpha=0.7, edgecolor='black')\n",
    "axes[0,0].set_title('Your Rating Distribution')\n",
    "axes[0,0].set_xlabel('Rating')\n",
    "axes[0,0].set_ylabel('Count')\n",
    "\n",
    "# IMDB ratings distribution\n",
    "axes[0,1].hist(df['IMDb Rating'].dropna(), bins=30, alpha=0.7, edgecolor='black')\n",
    "axes[0,1].set_title('IMDb Rating Distribution')\n",
    "axes[0,1].set_xlabel('Rating')\n",
    "axes[0,1].set_ylabel('Count')\n",
    "\n",
    "# Year distribution\n",
    "decade_counts = df.groupby((df['Year'] // 10) * 10).size()\n",
    "axes[1,0].bar(decade_counts.index, decade_counts.values, width=8)\n",
    "axes[1,0].set_title('Movies by Decade')\n",
    "axes[1,0].set_xlabel('Decade')\n",
    "axes[1,0].set_ylabel('Count')\n",
    "\n",
    "# Runtime distribution\n",
    "axes[1,1].hist(df['Runtime (mins)'].dropna(), bins=30, alpha=0.7, edgecolor='black')\n",
    "axes[1,1].set_title('Runtime Distribution')\n",
    "axes[1,1].set_xlabel('Runtime (minutes)')\n",
    "axes[1,1].set_ylabel('Count')\n",
    "\n",
    "plt.tight_layout()\n",
    "plt.show()"
   ]
  },
  {
   "cell_type": "markdown",
   "metadata": {},
   "source": [
    "## Genre Analysis"
   ]
  },
  {
   "cell_type": "code",
   "execution_count": null,
   "metadata": {},
   "outputs": [],
   "source": [
    "# Extract all genres\n",
    "all_genres = []\n",
    "for genres_list in df['Genres_List'].dropna():\n",
    "    all_genres.extend(genres_list)\n",
    "\n",
    "# Count genre frequency\n",
    "genre_counts = pd.Series(all_genres).value_counts()\n",
    "\n",
    "print(f\"Total unique genres: {len(genre_counts)}\")\n",
    "print(\"\\nTop 10 most common genres:\")\n",
    "print(genre_counts.head(10))\n",
    "\n",
    "# Plot genre frequency\n",
    "plt.figure(figsize=(12, 6))\n",
    "genre_counts.head(15).plot(kind='bar')\n",
    "plt.title('Most Common Genres')\n",
    "plt.xlabel('Genre')\n",
    "plt.ylabel('Count')\n",
    "plt.xticks(rotation=45)\n",
    "plt.tight_layout()\n",
    "plt.show()"
   ]
  },
  {
   "cell_type": "code",
   "execution_count": null,
   "metadata": {},
   "outputs": [],
   "source": [
    "# Genre rating analysis\n",
    "genre_ratings = {}\n",
    "for genre in genre_counts.head(10).index:\n",
    "    mask = df['Genres'].str.contains(genre, na=False)\n",
    "    genre_ratings[genre] = df[mask]['Your Rating'].mean()\n",
    "\n",
    "genre_rating_df = pd.DataFrame(list(genre_ratings.items()), columns=['Genre', 'Avg_Rating'])\n",
    "genre_rating_df = genre_rating_df.sort_values('Avg_Rating', ascending=False)\n",
    "\n",
    "plt.figure(figsize=(10, 6))\n",
    "plt.bar(genre_rating_df['Genre'], genre_rating_df['Avg_Rating'])\n",
    "plt.title('Average Your Rating by Genre (Top 10 Genres)')\n",
    "plt.xlabel('Genre')\n",
    "plt.ylabel('Average Rating')\n",
    "plt.xticks(rotation=45)\n",
    "plt.tight_layout()\n",
    "plt.show()\n",
    "\n",
    "print(\"Average ratings by genre:\")\n",
    "print(genre_rating_df)"
   ]
  },
  {
   "cell_type": "markdown",
   "metadata": {},
   "source": [
    "## Temporal Analysis"
   ]
  },
  {
   "cell_type": "code",
   "execution_count": null,
   "metadata": {},
   "outputs": [],
   "source": [
    "# Rating trends over time\n",
    "df['Rating_Date_Year'] = df['Date Rated'].dt.year\n",
    "df['Rating_Date_Month'] = df['Date Rated'].dt.to_period('M')\n",
    "\n",
    "# Monthly rating activity\n",
    "monthly_activity = df.groupby('Rating_Date_Month').size()\n",
    "\n",
    "plt.figure(figsize=(15, 6))\n",
    "monthly_activity.plot(kind='line', marker='o')\n",
    "plt.title('Rating Activity Over Time')\n",
    "plt.xlabel('Month')\n",
    "plt.ylabel('Number of Ratings')\n",
    "plt.xticks(rotation=45)\n",
    "plt.tight_layout()\n",
    "plt.show()\n",
    "\n",
    "# Average ratings by decade\n",
    "df['Decade'] = (df['Year'] // 10) * 10\n",
    "decade_ratings = df.groupby('Decade')['Your Rating'].agg(['mean', 'count']).reset_index()\n",
    "decade_ratings = decade_ratings[decade_ratings['count'] >= 5]  # Filter decades with at least 5 movies\n",
    "\n",
    "plt.figure(figsize=(12, 6))\n",
    "plt.subplot(1, 2, 1)\n",
    "plt.bar(decade_ratings['Decade'], decade_ratings['mean'])\n",
    "plt.title('Average Rating by Decade')\n",
    "plt.xlabel('Decade')\n",
    "plt.ylabel('Average Rating')\n",
    "\n",
    "plt.subplot(1, 2, 2)\n",
    "plt.bar(decade_ratings['Decade'], decade_ratings['count'])\n",
    "plt.title('Number of Movies by Decade')\n",
    "plt.xlabel('Decade')\n",
    "plt.ylabel('Count')\n",
    "\n",
    "plt.tight_layout()\n",
    "plt.show()\n",
    "\n",
    "print(\"Decade analysis:\")\n",
    "print(decade_ratings)"
   ]
  },
  {
   "cell_type": "markdown",
   "metadata": {},
   "source": [
    "## Runtime Analysis"
   ]
  },
  {
   "cell_type": "code",
   "execution_count": null,
   "metadata": {},
   "outputs": [],
   "source": [
    "# Runtime vs Rating correlation\n",
    "plt.figure(figsize=(12, 5))\n",
    "\n",
    "plt.subplot(1, 2, 1)\n",
    "plt.scatter(df['Runtime (mins)'], df['Your Rating'], alpha=0.6)\n",
    "plt.xlabel('Runtime (minutes)')\n",
    "plt.ylabel('Your Rating')\n",
    "plt.title('Runtime vs Your Rating')\n",
    "\n",
    "# Runtime categories\n",
    "df['Runtime_Category'] = pd.cut(df['Runtime (mins)'], \n",
    "                               bins=[0, 90, 120, 150, 300], \n",
    "                               labels=['Short (<90)', 'Medium (90-120)', 'Long (120-150)', 'Very Long (>150)'])\n",
    "\n",
    "runtime_ratings = df.groupby('Runtime_Category')['Your Rating'].agg(['mean', 'count']).reset_index()\n",
    "\n",
    "plt.subplot(1, 2, 2)\n",
    "plt.bar(range(len(runtime_ratings)), runtime_ratings['mean'])\n",
    "plt.xticks(range(len(runtime_ratings)), runtime_ratings['Runtime_Category'], rotation=45)\n",
    "plt.title('Average Rating by Runtime Category')\n",
    "plt.ylabel('Average Rating')\n",
    "\n",
    "plt.tight_layout()\n",
    "plt.show()\n",
    "\n",
    "print(\"Runtime analysis:\")\n",
    "print(runtime_ratings)\n",
    "\n",
    "correlation = df[['Runtime (mins)', 'Your Rating']].corr().iloc[0, 1]\n",
    "print(f\"\\nCorrelation between runtime and your rating: {correlation:.3f}\")"
   ]
  },
  {
   "cell_type": "markdown",
   "metadata": {},
   "source": [
    "## Director Analysis"
   ]
  },
  {
   "cell_type": "code",
   "execution_count": null,
   "metadata": {},
   "outputs": [],
   "source": [
    "# Director analysis\n",
    "director_stats = df.groupby('Directors').agg({\n",
    "    'Your Rating': ['mean', 'count'],\n",
    "    'IMDb Rating': 'mean'\n",
    "}).round(2)\n",
    "\n",
    "director_stats.columns = ['Avg_Your_Rating', 'Movie_Count', 'Avg_IMDb_Rating']\n",
    "director_stats = director_stats.reset_index()\n",
    "\n",
    "# Filter directors with at least 2 movies\n",
    "frequent_directors = director_stats[director_stats['Movie_Count'] >= 2].sort_values('Avg_Your_Rating', ascending=False)\n",
    "\n",
    "print(\"Directors with multiple movies (sorted by your average rating):\")\n",
    "print(frequent_directors.head(10))\n",
    "\n",
    "if len(frequent_directors) > 0:\n",
    "    plt.figure(figsize=(12, 6))\n",
    "    top_directors = frequent_directors.head(10)\n",
    "    plt.barh(range(len(top_directors)), top_directors['Avg_Your_Rating'])\n",
    "    plt.yticks(range(len(top_directors)), top_directors['Directors'])\n",
    "    plt.xlabel('Average Rating')\n",
    "    plt.title('Top Directors by Average Rating (2+ movies)')\n",
    "    plt.tight_layout()\n",
    "    plt.show()"
   ]
  },
  {
   "cell_type": "markdown",
   "metadata": {},
   "source": [
    "## Summary Statistics"
   ]
  },
  {
   "cell_type": "code",
   "execution_count": null,
   "metadata": {},
   "outputs": [],
   "source": [
    "# Summary statistics\n",
    "print(\"=== IMDB RATINGS ANALYSIS SUMMARY ===\")\n",
    "print(f\"\\nTotal movies rated: {len(df)}\")\n",
    "print(f\"Rating period: {df['Date Rated'].min().strftime('%Y-%m-%d')} to {df['Date Rated'].max().strftime('%Y-%m-%d')}\")\n",
    "print(f\"Movie years: {int(df['Year'].min())} to {int(df['Year'].max())}\")\n",
    "\n",
    "print(f\"\\nYour average rating: {df['Your Rating'].mean():.2f}\")\n",
    "print(f\"Most common rating: {df['Your Rating'].mode().iloc[0]}\")\n",
    "print(f\"Rating standard deviation: {df['Your Rating'].std():.2f}\")\n",
    "\n",
    "print(f\"\\nFavorite genre: {genre_counts.index[0]}\")\n",
    "print(f\"Highest rated genre: {genre_rating_df.iloc[0]['Genre']} ({genre_rating_df.iloc[0]['Avg_Rating']:.2f})\")\n",
    "\n",
    "print(f\"\\nAverage runtime preference: {df['Runtime (mins)'].mean():.0f} minutes\")\n",
    "print(f\"Most productive rating year: {df['Rating_Date_Year'].value_counts().index[0]}\")\n",
    "\n",
    "if len(frequent_directors) > 0:\n",
    "    print(f\"\\nFavorite director: {frequent_directors.iloc[0]['Directors']} ({frequent_directors.iloc[0]['Avg_Your_Rating']:.1f} avg rating)\")\n",
    "\n",
    "# Comparison with IMDB ratings\n",
    "rating_diff = df['Your Rating'] - df['IMDb Rating']\n",
    "print(f\"\\nRating vs IMDb: {rating_diff.mean():.2f} difference on average\")\n",
    "if rating_diff.mean() > 0:\n",
    "    print(\"You tend to rate movies higher than IMDb average\")\n",
    "else:\n",
    "    print(\"You tend to rate movies lower than IMDb average\")"
   ]
  }
 ],
 "metadata": {
  "kernelspec": {
   "display_name": "Python 3",
   "language": "python",
   "name": "python3"
  },
  "language_info": {
   "codemirror_mode": {
    "name": "ipython",
    "version": 3
   },
   "file_extension": ".py",
   "mimetype": "text/x-python",
   "name": "python",
   "nbconvert_exporter": "python",
   "pygments_lexer": "ipython3",
   "version": "3.11.0"
  }
 },
 "nbformat": 4,
 "nbformat_minor": 4
}
